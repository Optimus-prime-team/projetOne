{
 "cells": [
  {
   "cell_type": "markdown",
   "metadata": {
    "toc": true
   },
   "source": [
    "<h1>Table of Contents<span class=\"tocSkip\"></span></h1>\n",
    "<div class=\"toc\"><ul class=\"toc-item\"><li><span><a href=\"#Librairies,-json,-function\" data-toc-modified-id=\"Librairies,-json,-function-1\"><span class=\"toc-item-num\">1&nbsp;&nbsp;</span>Librairies, json, function</a></span><ul class=\"toc-item\"><li><span><a href=\"#Import-libraries\" data-toc-modified-id=\"Import-libraries-1.1\"><span class=\"toc-item-num\">1.1&nbsp;&nbsp;</span>Import libraries</a></span></li><li><span><a href=\"#Géstion-json\" data-toc-modified-id=\"Géstion-json-1.2\"><span class=\"toc-item-num\">1.2&nbsp;&nbsp;</span>Géstion json</a></span><ul class=\"toc-item\"><li><span><a href=\"#Création-confFile\" data-toc-modified-id=\"Création-confFile-1.2.1\"><span class=\"toc-item-num\">1.2.1&nbsp;&nbsp;</span>Création confFile</a></span></li><li><span><a href=\"#Création-variable-à-partir-du-json\" data-toc-modified-id=\"Création-variable-à-partir-du-json-1.2.2\"><span class=\"toc-item-num\">1.2.2&nbsp;&nbsp;</span>Création variable à partir du json</a></span></li></ul></li><li><span><a href=\"#Function-pour-temporisé\" data-toc-modified-id=\"Function-pour-temporisé-1.3\"><span class=\"toc-item-num\">1.3&nbsp;&nbsp;</span>Function pour temporisé</a></span></li><li><span><a href=\"#Function-gestion-des-nombres\" data-toc-modified-id=\"Function-gestion-des-nombres-1.4\"><span class=\"toc-item-num\">1.4&nbsp;&nbsp;</span>Function gestion des nombres</a></span></li><li><span><a href=\"#Function-creation-tableau-d'entier\" data-toc-modified-id=\"Function-creation-tableau-d'entier-1.5\"><span class=\"toc-item-num\">1.5&nbsp;&nbsp;</span>Function creation tableau d'entier</a></span></li><li><span><a href=\"#Function-calcul-de-moyenne\" data-toc-modified-id=\"Function-calcul-de-moyenne-1.6\"><span class=\"toc-item-num\">1.6&nbsp;&nbsp;</span>Function calcul de moyenne</a></span></li><li><span><a href=\"#Gestion-salaires\" data-toc-modified-id=\"Gestion-salaires-1.7\"><span class=\"toc-item-num\">1.7&nbsp;&nbsp;</span>Gestion salaires</a></span><ul class=\"toc-item\"><li><span><a href=\"#Convertion-salaire-jours/mois-en-salaire-à-l'année\" data-toc-modified-id=\"Convertion-salaire-jours/mois-en-salaire-à-l'année-1.7.1\"><span class=\"toc-item-num\">1.7.1&nbsp;&nbsp;</span>Convertion salaire jours/mois en salaire à l'année</a></span></li><li><span><a href=\"#Detection-des-salaires\" data-toc-modified-id=\"Detection-des-salaires-1.7.2\"><span class=\"toc-item-num\">1.7.2&nbsp;&nbsp;</span>Detection des salaires</a></span></li></ul></li><li><span><a href=\"#Gestion-date\" data-toc-modified-id=\"Gestion-date-1.8\"><span class=\"toc-item-num\">1.8&nbsp;&nbsp;</span>Gestion date</a></span><ul class=\"toc-item\"><li><span><a href=\"#Publication-de-la-date\" data-toc-modified-id=\"Publication-de-la-date-1.8.1\"><span class=\"toc-item-num\">1.8.1&nbsp;&nbsp;</span>Publication de la date</a></span></li><li><span><a href=\"#Format-de-la-date\" data-toc-modified-id=\"Format-de-la-date-1.8.2\"><span class=\"toc-item-num\">1.8.2&nbsp;&nbsp;</span>Format de la date</a></span></li></ul></li></ul></li><li><span><a href=\"#Selenimum-Code\" data-toc-modified-id=\"Selenimum-Code-2\"><span class=\"toc-item-num\">2&nbsp;&nbsp;</span>Selenimum Code</a></span><ul class=\"toc-item\"><li><span><a href=\"#Recherche-d'élement-existant\" data-toc-modified-id=\"Recherche-d'élement-existant-2.1\"><span class=\"toc-item-num\">2.1&nbsp;&nbsp;</span>Recherche d'élement existant</a></span></li><li><span><a href=\"#Jobspage\" data-toc-modified-id=\"Jobspage-2.2\"><span class=\"toc-item-num\">2.2&nbsp;&nbsp;</span>Jobspage</a></span><ul class=\"toc-item\"><li><span><a href=\"#Recherche\" data-toc-modified-id=\"Recherche-2.2.1\"><span class=\"toc-item-num\">2.2.1&nbsp;&nbsp;</span>Recherche</a></span></li><li><span><a href=\"#Click-jobstage\" data-toc-modified-id=\"Click-jobstage-2.2.2\"><span class=\"toc-item-num\">2.2.2&nbsp;&nbsp;</span>Click jobstage</a></span></li></ul></li><li><span><a href=\"#Pagination\" data-toc-modified-id=\"Pagination-2.3\"><span class=\"toc-item-num\">2.3&nbsp;&nbsp;</span>Pagination</a></span><ul class=\"toc-item\"><li><span><a href=\"#Detection-pagination\" data-toc-modified-id=\"Detection-pagination-2.3.1\"><span class=\"toc-item-num\">2.3.1&nbsp;&nbsp;</span>Detection pagination</a></span></li><li><span><a href=\"#Click-pagination\" data-toc-modified-id=\"Click-pagination-2.3.2\"><span class=\"toc-item-num\">2.3.2&nbsp;&nbsp;</span>Click pagination</a></span></li></ul></li></ul></li><li><span><a href=\"#Ecriture\" data-toc-modified-id=\"Ecriture-3\"><span class=\"toc-item-num\">3&nbsp;&nbsp;</span>Ecriture</a></span><ul class=\"toc-item\"><li><span><a href=\"#Csv\" data-toc-modified-id=\"Csv-3.1\"><span class=\"toc-item-num\">3.1&nbsp;&nbsp;</span>Csv</a></span></li><li><span><a href=\"#Json\" data-toc-modified-id=\"Json-3.2\"><span class=\"toc-item-num\">3.2&nbsp;&nbsp;</span>Json</a></span></li></ul></li><li><span><a href=\"#GoGoGo\" data-toc-modified-id=\"GoGoGo-4\"><span class=\"toc-item-num\">4&nbsp;&nbsp;</span>GoGoGo</a></span><ul class=\"toc-item\"><li><span><a href=\"#enfin-presque\" data-toc-modified-id=\"enfin-presque-4.1\"><span class=\"toc-item-num\">4.1&nbsp;&nbsp;</span>enfin presque</a></span></li><li><span><a href=\"#Gestion-webdriver\" data-toc-modified-id=\"Gestion-webdriver-4.2\"><span class=\"toc-item-num\">4.2&nbsp;&nbsp;</span>Gestion webdriver</a></span></li><li><span><a href=\"#Et-ces-partis\" data-toc-modified-id=\"Et-ces-partis-4.3\"><span class=\"toc-item-num\">4.3&nbsp;&nbsp;</span>Et ces partis</a></span></li></ul></li></ul></div>"
   ]
  },
  {
   "cell_type": "markdown",
   "metadata": {
    "heading_collapsed": true
   },
   "source": [
    "# Librairies, json, function"
   ]
  },
  {
   "cell_type": "markdown",
   "metadata": {
    "hidden": true
   },
   "source": [
    "## Import libraries"
   ]
  },
  {
   "cell_type": "code",
   "execution_count": 1,
   "metadata": {
    "ExecuteTime": {
     "end_time": "2020-05-21T13:54:16.187181Z",
     "start_time": "2020-05-21T13:54:15.877185Z"
    },
    "hidden": true
   },
   "outputs": [],
   "source": [
    "import os, re\n",
    "import time, datetime\n",
    "import random\n",
    "import json, csv\n",
    "import numpy as np\n",
    "import pandas as pd\n",
    "from datetime import timedelta\n",
    "from selenium import webdriver\n",
    "from selenium.webdriver import ActionChains\n",
    "from selenium.webdriver.common.keys import Keys\n",
    "from selenium.common.exceptions import NoSuchElementException\n",
    "from termcolor import colored\n",
    "from pathlib import PureWindowsPath, PurePath, Path\n",
    "# import mongo_indeed as bdd"
   ]
  },
  {
   "cell_type": "markdown",
   "metadata": {
    "hidden": true
   },
   "source": [
    "## Géstion json"
   ]
  },
  {
   "cell_type": "markdown",
   "metadata": {
    "hidden": true
   },
   "source": [
    "### Création confFile"
   ]
  },
  {
   "cell_type": "code",
   "execution_count": 2,
   "metadata": {
    "ExecuteTime": {
     "end_time": "2020-05-21T13:54:16.694179Z",
     "start_time": "2020-05-21T13:54:16.682681Z"
    },
    "hidden": true
   },
   "outputs": [],
   "source": [
    "try :\n",
    "    confFile = pd.read_json(PurePath(os.getcwd()+\"/config/config.json\"))\n",
    "except :\n",
    "    confFile = pd.read_json(\"E:\\cours_simplon\\projet_3\\git_teams\\projetOne\\config/config.json\")"
   ]
  },
  {
   "cell_type": "markdown",
   "metadata": {
    "hidden": true
   },
   "source": [
    "### Création variable à partir du json"
   ]
  },
  {
   "cell_type": "code",
   "execution_count": 3,
   "metadata": {
    "ExecuteTime": {
     "end_time": "2020-05-21T13:54:17.112684Z",
     "start_time": "2020-05-21T13:54:17.107682Z"
    },
    "hidden": true
   },
   "outputs": [],
   "source": [
    "ELEMENTS = confFile['conf']\n",
    "\n",
    "URL = ELEMENTS['urls']['indeed']\n",
    "\n",
    "LOGINPAGE = URL['login']\n",
    "JOBSPAGE = URL['jobs']\n",
    "\n",
    "# 0-> developpeur | 1 -> data scientist | 2 -> data analyst | 3 -> business intelligence\n",
    "job_querry = ELEMENTS['search']['jobsname'][2]\n",
    "\n",
    "# 0 -> Paris | 1 -> Lyon | 2 -> Toulouse | 3 -> Nantes | 4 -> Bordeaux\n",
    "city_querry = ELEMENTS['location']['region'][4]"
   ]
  },
  {
   "cell_type": "markdown",
   "metadata": {
    "hidden": true
   },
   "source": [
    "## Function pour temporisé"
   ]
  },
  {
   "cell_type": "code",
   "execution_count": 4,
   "metadata": {
    "ExecuteTime": {
     "end_time": "2020-05-21T13:54:17.651683Z",
     "start_time": "2020-05-21T13:54:17.648681Z"
    },
    "hidden": true
   },
   "outputs": [],
   "source": [
    "def random_time():\n",
    "    return 2"
   ]
  },
  {
   "cell_type": "markdown",
   "metadata": {
    "hidden": true
   },
   "source": [
    "## Function gestion des nombres\n",
    "- param element = str element"
   ]
  },
  {
   "cell_type": "code",
   "execution_count": 5,
   "metadata": {
    "ExecuteTime": {
     "end_time": "2020-05-21T13:54:18.597682Z",
     "start_time": "2020-05-21T13:54:18.594187Z"
    },
    "hidden": true
   },
   "outputs": [],
   "source": [
    "def checkNumbers(element):\n",
    "    # .findall  permet de récupérer tout ce que tu veux dans les chaines de caractére.\n",
    "    elem = re.findall(\"\\d+\", element.replace(\" \", \"\"))\n",
    "    return elem"
   ]
  },
  {
   "cell_type": "markdown",
   "metadata": {
    "hidden": true
   },
   "source": [
    "## Function creation tableau d'entier\n",
    "- param element = arr element"
   ]
  },
  {
   "cell_type": "code",
   "execution_count": 6,
   "metadata": {
    "ExecuteTime": {
     "end_time": "2020-05-21T13:54:19.406183Z",
     "start_time": "2020-05-21T13:54:19.402680Z"
    },
    "hidden": true
   },
   "outputs": [],
   "source": [
    "def _formatNumbers(element):\n",
    "    elem = list(map(int, element))\n",
    "    return elem"
   ]
  },
  {
   "cell_type": "markdown",
   "metadata": {
    "hidden": true
   },
   "source": [
    "## Function calcul de moyenne\n",
    "- param elem = arr elem"
   ]
  },
  {
   "cell_type": "code",
   "execution_count": 7,
   "metadata": {
    "ExecuteTime": {
     "end_time": "2020-05-21T13:54:20.007681Z",
     "start_time": "2020-05-21T13:54:20.004180Z"
    },
    "hidden": true
   },
   "outputs": [],
   "source": [
    "def elem2Mean(elem):\n",
    "    elem = _formatNumbers(elem)\n",
    "    return np.mean(elem)"
   ]
  },
  {
   "cell_type": "markdown",
   "metadata": {
    "hidden": true
   },
   "source": [
    "## Gestion salaires\n",
    "- param salary = int salary"
   ]
  },
  {
   "cell_type": "markdown",
   "metadata": {
    "hidden": true
   },
   "source": [
    "### Convertion salaire jours/mois en salaire à l'année"
   ]
  },
  {
   "cell_type": "code",
   "execution_count": 8,
   "metadata": {
    "ExecuteTime": {
     "end_time": "2020-05-21T13:54:20.814180Z",
     "start_time": "2020-05-21T13:54:20.810187Z"
    },
    "hidden": true
   },
   "outputs": [],
   "source": [
    "def _salary(salary):\n",
    "    salary = str(int(salary))\n",
    "    \n",
    "    if len(salary) >= 5: # 40000\n",
    "        return int(salary) #euro\n",
    "    if len(salary) == 4: # 4000\n",
    "        return int(salary)*12 #euro *30\n",
    "    if len(salary) <= 3: # 400\n",
    "        return int(salary) #euro * 30 * 12"
   ]
  },
  {
   "cell_type": "markdown",
   "metadata": {
    "hidden": true
   },
   "source": [
    "### Detection des salaires"
   ]
  },
  {
   "cell_type": "code",
   "execution_count": 9,
   "metadata": {
    "ExecuteTime": {
     "end_time": "2020-05-21T13:54:21.437688Z",
     "start_time": "2020-05-21T13:54:21.434182Z"
    },
    "hidden": true
   },
   "outputs": [],
   "source": [
    "def detectSalary(element, driver):\n",
    "    element = element.replace(\" \", \"\")\n",
    "    salary = re.findall(\"\\d+(?=€)\", element)\n",
    "    salaryInDom = check_exists_by_element(driver, \"css\", \".jobMetadataHeader > div:nth-child(3)\") \n",
    "    return salary, salaryInDom"
   ]
  },
  {
   "cell_type": "markdown",
   "metadata": {
    "hidden": true
   },
   "source": [
    "## Gestion date\n",
    "- param days     = datetime()\n",
    "- param position = 1 is actual date, 2 is the post date"
   ]
  },
  {
   "cell_type": "markdown",
   "metadata": {
    "hidden": true
   },
   "source": [
    "### Publication de la date"
   ]
  },
  {
   "cell_type": "code",
   "execution_count": 10,
   "metadata": {
    "ExecuteTime": {
     "end_time": "2020-05-21T13:54:22.364183Z",
     "start_time": "2020-05-21T13:54:22.359687Z"
    },
    "hidden": true
   },
   "outputs": [],
   "source": [
    "def getPostDate(el):\n",
    "    \n",
    "    if \"Publiée à l'instant\".find(str(el)) != -1 or \"Aujourd'hui\".find(str(el)) != -1:\n",
    "        return el\n",
    "    else:\n",
    "        return int(re.findall(\"\\d+\",el)[0])"
   ]
  },
  {
   "cell_type": "markdown",
   "metadata": {
    "hidden": true
   },
   "source": [
    "### Format de la date"
   ]
  },
  {
   "cell_type": "code",
   "execution_count": 11,
   "metadata": {
    "ExecuteTime": {
     "end_time": "2020-05-21T13:54:22.948190Z",
     "start_time": "2020-05-21T13:54:22.943679Z"
    },
    "hidden": true
   },
   "outputs": [],
   "source": [
    "def dateformat(days, position):\n",
    "    now = datetime.datetime.now()\n",
    "    if \"Publiée à l'instant\".find(str(days)) != -1 or \"Aujourd'hui\".find(str(days)) != -1:\n",
    "        return now.strftime(\"%x\")+\"-\"+now.strftime(\"%X\")\n",
    "    if position == 1:\n",
    "        return now.strftime(\"%x\")+\"-\"+now.strftime(\"%X\")\n",
    "    elif position == 2:\n",
    "        postdate = now - timedelta(days=days)\n",
    "        return postdate.strftime(\"%x\")"
   ]
  },
  {
   "cell_type": "markdown",
   "metadata": {
    "heading_collapsed": true
   },
   "source": [
    "# Selenimum Code"
   ]
  },
  {
   "cell_type": "markdown",
   "metadata": {
    "heading_collapsed": true,
    "hidden": true
   },
   "source": [
    "## Recherche d'élement existant\n",
    "- param driver = driver\n",
    "- param element  = element selected\n",
    "- param _type    = \"id\" | \"css\""
   ]
  },
  {
   "cell_type": "code",
   "execution_count": 12,
   "metadata": {
    "ExecuteTime": {
     "end_time": "2020-05-21T13:54:23.794687Z",
     "start_time": "2020-05-21T13:54:23.790679Z"
    },
    "hidden": true
   },
   "outputs": [],
   "source": [
    "def check_exists_by_element(driver, _type, element):\n",
    "    try:\n",
    "        if _type == 'css':\n",
    "            target = driver.find_element_by_css_selector(element)\n",
    "        elif _type == 'id':\n",
    "            target = driver.find_element_by_id(element)\n",
    "        return target.text\n",
    "    except NoSuchElementException:\n",
    "        return \"\""
   ]
  },
  {
   "cell_type": "markdown",
   "metadata": {
    "heading_collapsed": true,
    "hidden": true
   },
   "source": [
    "## Jobspage"
   ]
  },
  {
   "cell_type": "markdown",
   "metadata": {
    "hidden": true
   },
   "source": [
    "### Recherche "
   ]
  },
  {
   "cell_type": "code",
   "execution_count": 13,
   "metadata": {
    "ExecuteTime": {
     "end_time": "2020-05-21T13:54:24.639683Z",
     "start_time": "2020-05-21T13:54:24.634681Z"
    },
    "hidden": true
   },
   "outputs": [],
   "source": [
    "def search(driver, jobspage):\n",
    "    time.sleep(random_time())\n",
    "    driver.get(jobspage)\n",
    "    time.sleep(random_time())\n",
    "    driver.find_element_by_css_selector(\"[id='text-input-what']\").send_keys(job_querry) #JOBS NAME\n",
    "    time.sleep(random_time())\n",
    "    driver.find_element_by_id(\"text-input-where\").send_keys(Keys.CONTROL + \"a\")\n",
    "    driver.find_element_by_css_selector(\"[id='text-input-where']\").send_keys(city_querry) #CITY\n",
    "    time.sleep(random_time())\n",
    "    driver.find_element_by_css_selector(\".icl-WhatWhere-button\").click()"
   ]
  },
  {
   "cell_type": "markdown",
   "metadata": {
    "hidden": true
   },
   "source": [
    "### Click jobstage"
   ]
  },
  {
   "cell_type": "code",
   "execution_count": 14,
   "metadata": {
    "ExecuteTime": {
     "end_time": "2020-05-21T13:54:25.168184Z",
     "start_time": "2020-05-21T13:54:25.158679Z"
    },
    "hidden": true
   },
   "outputs": [],
   "source": [
    "def click_list(driver, jobspage):\n",
    "    cols = ['city', 'contrat', 'salary','title', 'compagnyName', \n",
    "        'description', 'postdate', 'overOneMounth', 'job_querry', 'city_querry']\n",
    "    df = pd.DataFrame(columns = cols)\n",
    "    time.sleep(2)\n",
    "    _listLi = driver.find_elements_by_css_selector(\"td[id='resultsCol'] [id^='p']\") #TODO change this variable's name \n",
    "    i = 0\n",
    "    for li in _listLi:\n",
    "        li.click()\n",
    "        time.sleep(random_time())\n",
    "        #print(colored(li.text, 'green', attrs=['bold', 'reverse']))\n",
    "        i += 1\n",
    "        #print(colored(\"scrap num : {}\".format(i), 'red', attrs=['bold', 'reverse', 'blink']))\n",
    "        metaDataHeader = check_exists_by_element(driver, \"css\", \".jobMetadataHeader\") #ICI pour detecter le salaire dans cette div\n",
    "        city = check_exists_by_element(driver, \"css\", \".jobMetadataHeader > div:first-child\")\n",
    "        contrat = check_exists_by_element(driver, \"css\", \".jobMetadataHeader > div:nth-child(2)\") #ICI a corriger\n",
    "        contrat = \"\" if len(checkNumbers(contrat)) > 0 else contrat\n",
    "        salary, salaryInDom = detectSalary(metaDataHeader, driver)\n",
    "        postdate = check_exists_by_element(driver, \"css\", \"div[id='vjs-footer'] > div:first-child .date\")\n",
    "        #print(colored(\"city : \"+city, 'blue'))\n",
    "        #print(colored(\"contrat : \"+contrat, 'cyan'))\n",
    "        #print(colored(\"salary : \"+salaryInDom, 'yellow'))\n",
    "        #print(colored(\"post data : \"+postdate, 'magenta'))\n",
    "        time.sleep(random_time())\n",
    "        \n",
    "        \n",
    "        title = check_exists_by_element(driver, \"id\", \"vjs-jobtitle\")\n",
    "        #print(\"\\n\"+title)\n",
    "        compagnyName = check_exists_by_element(driver, 'id', \"vjs-cn\")\n",
    "        #print(\"\\n\"+compagnyName)\n",
    "        description = check_exists_by_element(driver, \"id\", \"vjs-desc\")\n",
    "        #print(\"\\n\"+description)\n",
    "        salary = \"\" if salary == [] else _salary(elem2Mean(salary))\n",
    "\n",
    "        #print(colored(salary, 'red'))\n",
    "        overOneMounth = 1 if str(postdate).find(\"plus de\") != -1 else 0\n",
    "        postDate = getPostDate(postdate)\n",
    "        scrapDate = dateformat(postDate, 1)\n",
    "        postDate = dateformat(postDate, 2)\n",
    "        #all_inf = [city, contrat, salary, title, compagnyName, description, postDate, scrapDate, overOneMounth]\n",
    "        all_inf = pd.DataFrame([[city, contrat, salary,title, compagnyName, \n",
    "                             description, postDate, overOneMounth, job_querry, city_querry]], columns=cols)\n",
    "\n",
    "\n",
    "        df = df.append(all_inf)\n",
    "    bdd.save_offers(df)\n",
    "        \n",
    "        #put_in_csv(all_inf)\n",
    "        #put_in_json(all_inf)\n",
    "        "
   ]
  },
  {
   "cell_type": "markdown",
   "metadata": {
    "hidden": true
   },
   "source": [
    "## Pagination"
   ]
  },
  {
   "cell_type": "markdown",
   "metadata": {
    "hidden": true
   },
   "source": [
    "### Detection pagination"
   ]
  },
  {
   "cell_type": "code",
   "execution_count": 15,
   "metadata": {
    "ExecuteTime": {
     "end_time": "2020-05-21T13:54:25.907183Z",
     "start_time": "2020-05-21T13:54:25.903681Z"
    },
    "hidden": true
   },
   "outputs": [],
   "source": [
    "def detect_paginate(driver, jobspage):\n",
    "    pagination = check_exists_by_element(driver, \"css\", \".pagination\")\n",
    "    if pagination != \"\":\n",
    "        click_paginate(driver, jobspage)\n",
    "    else:\n",
    "        click_list(driver, jobspage)"
   ]
  },
  {
   "cell_type": "markdown",
   "metadata": {
    "hidden": true
   },
   "source": [
    "### Click pagination"
   ]
  },
  {
   "cell_type": "code",
   "execution_count": 16,
   "metadata": {
    "ExecuteTime": {
     "end_time": "2020-05-21T13:54:26.498688Z",
     "start_time": "2020-05-21T13:54:26.492183Z"
    },
    "hidden": true
   },
   "outputs": [],
   "source": [
    "def click_paginate(driver, jobspage):\n",
    "    time.sleep(random_time())\n",
    "    popup = check_exists_by_element(driver, \"id\", \"popover-background\")\n",
    "    i = 0\n",
    "    while True:\n",
    "        i += 1\n",
    "        print(i)\n",
    "        if i == 2: #Dans le cas ou une popup pop\n",
    "            print(\"COUCOU\")\n",
    "            time.sleep(random_time())\n",
    "            print(\"click close popup\")\n",
    "            driver.find_element_by_css_selector(\".popover-x-button-close\").click()\n",
    "        click_list(driver, jobspage)\n",
    "        time.sleep(random_time())\n",
    "        li = driver.find_element_by_css_selector(\"a[aria-label='Suivant']\")\n",
    "        #scroll(driver)\n",
    "        time.sleep(random_time())\n",
    "        hover = ActionChains(driver).move_to_element(li)\n",
    "        hover.perform()\n",
    "        print(colored(\"hover page {}\".format(i+1), \"cyan\", attrs=[\"bold\", \"reverse\"]))\n",
    "        time.sleep(random_time())\n",
    "        print(colored(\"click page {}\".format(i+1), \"cyan\", attrs=[\"bold\", \"reverse\"]))\n",
    "        li.click()"
   ]
  },
  {
   "cell_type": "markdown",
   "metadata": {
    "heading_collapsed": true
   },
   "source": [
    "# Ecriture"
   ]
  },
  {
   "cell_type": "markdown",
   "metadata": {
    "hidden": true
   },
   "source": [
    "## Csv"
   ]
  },
  {
   "cell_type": "code",
   "execution_count": 17,
   "metadata": {
    "ExecuteTime": {
     "end_time": "2020-05-21T13:54:27.319680Z",
     "start_time": "2020-05-21T13:54:27.315680Z"
    },
    "hidden": true
   },
   "outputs": [],
   "source": [
    "def put_in_csv(all_inf):\n",
    "    inf = [str(i) for i in all_inf]\n",
    "    with open(PurePath(os.getcwd()+\"/dbscrap/indeed3.csv\") , 'a', newline='') as f:\n",
    "        writer = csv.writer(f)\n",
    "        writer.writerow(inf)"
   ]
  },
  {
   "cell_type": "markdown",
   "metadata": {
    "hidden": true
   },
   "source": [
    "## Json"
   ]
  },
  {
   "cell_type": "code",
   "execution_count": 18,
   "metadata": {
    "ExecuteTime": {
     "end_time": "2020-05-21T13:54:27.885678Z",
     "start_time": "2020-05-21T13:54:27.881687Z"
    },
    "hidden": true
   },
   "outputs": [],
   "source": [
    "def put_in_json(all_inf):\n",
    "    dictOfWords = { i : 5 for i in all_inf } #TODO finish this funciton\n",
    "    with open(PurePath(os.getcwd()+\"/dbscrap/indeed.json\"), 'w') as outfile:\n",
    "        json.dump(all_inf, outfile)"
   ]
  },
  {
   "cell_type": "markdown",
   "metadata": {
    "heading_collapsed": true
   },
   "source": [
    "# GoGoGo"
   ]
  },
  {
   "cell_type": "markdown",
   "metadata": {
    "hidden": true
   },
   "source": [
    "## enfin presque"
   ]
  },
  {
   "cell_type": "code",
   "execution_count": 19,
   "metadata": {
    "ExecuteTime": {
     "end_time": "2020-05-21T13:54:28.750182Z",
     "start_time": "2020-05-21T13:54:28.747187Z"
    },
    "hidden": true
   },
   "outputs": [],
   "source": [
    "def all_process(driver, loginpage, jobspage):\n",
    "    #login(driver, loginpage)\n",
    "    search(driver, jobspage)\n",
    "    detect_paginate(driver, jobspage)"
   ]
  },
  {
   "cell_type": "markdown",
   "metadata": {
    "hidden": true
   },
   "source": [
    "## Gestion webdriver"
   ]
  },
  {
   "cell_type": "code",
   "execution_count": 20,
   "metadata": {
    "ExecuteTime": {
     "end_time": "2020-05-21T13:54:32.496180Z",
     "start_time": "2020-05-21T13:54:29.332181Z"
    },
    "hidden": true
   },
   "outputs": [
    {
     "name": "stderr",
     "output_type": "stream",
     "text": [
      "E:\\systeme\\anaconda\\lib\\site-packages\\ipykernel_launcher.py:6: DeprecationWarning: use options instead of chrome_options\n",
      "  \n",
      "[WDM] - Looking for [chromedriver 81.0.4044.138 win32] driver in cache \n",
      "[WDM] - File found in cache by path [C:\\Users\\gruy6\\.wdm\\drivers\\chromedriver\\81.0.4044.138\\win32\\chromedriver.exe]\n"
     ]
    }
   ],
   "source": [
    "try:\n",
    "    chrome_options = webdriver.ChromeOptions()\n",
    "    chrome_options.add_argument(\"--incognito\")\n",
    "    path = 'C:/Users/MonOrdiPro/Desktop/ScrapFinal-master/chromedriver.exe'\n",
    "\n",
    "    driver = webdriver.Chrome(path, chrome_options=chrome_options)\n",
    "except:\n",
    "    from webdriver_manager.chrome import ChromeDriverManager\n",
    "    driver = webdriver.Chrome(ChromeDriverManager().install())"
   ]
  },
  {
   "cell_type": "markdown",
   "metadata": {
    "heading_collapsed": true,
    "hidden": true
   },
   "source": [
    "## Et ces partis"
   ]
  },
  {
   "cell_type": "code",
   "execution_count": 21,
   "metadata": {
    "ExecuteTime": {
     "end_time": "2020-05-21T13:55:30.448182Z",
     "start_time": "2020-05-21T13:54:32.530684Z"
    },
    "hidden": true
   },
   "outputs": [
    {
     "name": "stdout",
     "output_type": "stream",
     "text": [
      "1\n"
     ]
    },
    {
     "ename": "NameError",
     "evalue": "name 'bdd' is not defined",
     "output_type": "error",
     "traceback": [
      "\u001b[1;31m---------------------------------------------------------------------------\u001b[0m",
      "\u001b[1;31mNameError\u001b[0m                                 Traceback (most recent call last)",
      "\u001b[1;32m<ipython-input-21-94a2089a38de>\u001b[0m in \u001b[0;36m<module>\u001b[1;34m\u001b[0m\n\u001b[0;32m      1\u001b[0m \u001b[0mstart\u001b[0m \u001b[1;33m=\u001b[0m \u001b[0mtime\u001b[0m\u001b[1;33m.\u001b[0m\u001b[0mtime\u001b[0m\u001b[1;33m(\u001b[0m\u001b[1;33m)\u001b[0m\u001b[1;33m\u001b[0m\u001b[1;33m\u001b[0m\u001b[0m\n\u001b[0;32m      2\u001b[0m \u001b[0mdriver\u001b[0m\u001b[1;33m.\u001b[0m\u001b[0mmaximize_window\u001b[0m\u001b[1;33m(\u001b[0m\u001b[1;33m)\u001b[0m\u001b[1;33m\u001b[0m\u001b[1;33m\u001b[0m\u001b[0m\n\u001b[1;32m----> 3\u001b[1;33m \u001b[0mall_process\u001b[0m\u001b[1;33m(\u001b[0m\u001b[0mdriver\u001b[0m\u001b[1;33m,\u001b[0m \u001b[0mLOGINPAGE\u001b[0m\u001b[1;33m,\u001b[0m \u001b[0mJOBSPAGE\u001b[0m\u001b[1;33m)\u001b[0m\u001b[1;33m\u001b[0m\u001b[1;33m\u001b[0m\u001b[0m\n\u001b[0m\u001b[0;32m      4\u001b[0m \u001b[0mend\u001b[0m \u001b[1;33m=\u001b[0m \u001b[0mtime\u001b[0m\u001b[1;33m.\u001b[0m\u001b[0mtime\u001b[0m\u001b[1;33m(\u001b[0m\u001b[1;33m)\u001b[0m\u001b[1;33m\u001b[0m\u001b[1;33m\u001b[0m\u001b[0m\n\u001b[0;32m      5\u001b[0m \u001b[0mprint\u001b[0m\u001b[1;33m(\u001b[0m\u001b[1;34m\"\\ntook {:.2f}s\"\u001b[0m\u001b[1;33m.\u001b[0m\u001b[0mformat\u001b[0m\u001b[1;33m(\u001b[0m\u001b[0mend\u001b[0m\u001b[1;33m-\u001b[0m\u001b[0mstart\u001b[0m\u001b[1;33m)\u001b[0m\u001b[1;33m)\u001b[0m\u001b[1;33m\u001b[0m\u001b[1;33m\u001b[0m\u001b[0m\n",
      "\u001b[1;32m<ipython-input-19-06f991ba8b40>\u001b[0m in \u001b[0;36mall_process\u001b[1;34m(driver, loginpage, jobspage)\u001b[0m\n\u001b[0;32m      2\u001b[0m     \u001b[1;31m#login(driver, loginpage)\u001b[0m\u001b[1;33m\u001b[0m\u001b[1;33m\u001b[0m\u001b[1;33m\u001b[0m\u001b[0m\n\u001b[0;32m      3\u001b[0m     \u001b[0msearch\u001b[0m\u001b[1;33m(\u001b[0m\u001b[0mdriver\u001b[0m\u001b[1;33m,\u001b[0m \u001b[0mjobspage\u001b[0m\u001b[1;33m)\u001b[0m\u001b[1;33m\u001b[0m\u001b[1;33m\u001b[0m\u001b[0m\n\u001b[1;32m----> 4\u001b[1;33m     \u001b[0mdetect_paginate\u001b[0m\u001b[1;33m(\u001b[0m\u001b[0mdriver\u001b[0m\u001b[1;33m,\u001b[0m \u001b[0mjobspage\u001b[0m\u001b[1;33m)\u001b[0m\u001b[1;33m\u001b[0m\u001b[1;33m\u001b[0m\u001b[0m\n\u001b[0m",
      "\u001b[1;32m<ipython-input-15-85396c317d4f>\u001b[0m in \u001b[0;36mdetect_paginate\u001b[1;34m(driver, jobspage)\u001b[0m\n\u001b[0;32m      2\u001b[0m     \u001b[0mpagination\u001b[0m \u001b[1;33m=\u001b[0m \u001b[0mcheck_exists_by_element\u001b[0m\u001b[1;33m(\u001b[0m\u001b[0mdriver\u001b[0m\u001b[1;33m,\u001b[0m \u001b[1;34m\"css\"\u001b[0m\u001b[1;33m,\u001b[0m \u001b[1;34m\".pagination\"\u001b[0m\u001b[1;33m)\u001b[0m\u001b[1;33m\u001b[0m\u001b[1;33m\u001b[0m\u001b[0m\n\u001b[0;32m      3\u001b[0m     \u001b[1;32mif\u001b[0m \u001b[0mpagination\u001b[0m \u001b[1;33m!=\u001b[0m \u001b[1;34m\"\"\u001b[0m\u001b[1;33m:\u001b[0m\u001b[1;33m\u001b[0m\u001b[1;33m\u001b[0m\u001b[0m\n\u001b[1;32m----> 4\u001b[1;33m         \u001b[0mclick_paginate\u001b[0m\u001b[1;33m(\u001b[0m\u001b[0mdriver\u001b[0m\u001b[1;33m,\u001b[0m \u001b[0mjobspage\u001b[0m\u001b[1;33m)\u001b[0m\u001b[1;33m\u001b[0m\u001b[1;33m\u001b[0m\u001b[0m\n\u001b[0m\u001b[0;32m      5\u001b[0m     \u001b[1;32melse\u001b[0m\u001b[1;33m:\u001b[0m\u001b[1;33m\u001b[0m\u001b[1;33m\u001b[0m\u001b[0m\n\u001b[0;32m      6\u001b[0m         \u001b[0mclick_list\u001b[0m\u001b[1;33m(\u001b[0m\u001b[0mdriver\u001b[0m\u001b[1;33m,\u001b[0m \u001b[0mjobspage\u001b[0m\u001b[1;33m)\u001b[0m\u001b[1;33m\u001b[0m\u001b[1;33m\u001b[0m\u001b[0m\n",
      "\u001b[1;32m<ipython-input-16-ae9914df7854>\u001b[0m in \u001b[0;36mclick_paginate\u001b[1;34m(driver, jobspage)\u001b[0m\n\u001b[0;32m     11\u001b[0m             \u001b[0mprint\u001b[0m\u001b[1;33m(\u001b[0m\u001b[1;34m\"click close popup\"\u001b[0m\u001b[1;33m)\u001b[0m\u001b[1;33m\u001b[0m\u001b[1;33m\u001b[0m\u001b[0m\n\u001b[0;32m     12\u001b[0m             \u001b[0mdriver\u001b[0m\u001b[1;33m.\u001b[0m\u001b[0mfind_element_by_css_selector\u001b[0m\u001b[1;33m(\u001b[0m\u001b[1;34m\".popover-x-button-close\"\u001b[0m\u001b[1;33m)\u001b[0m\u001b[1;33m.\u001b[0m\u001b[0mclick\u001b[0m\u001b[1;33m(\u001b[0m\u001b[1;33m)\u001b[0m\u001b[1;33m\u001b[0m\u001b[1;33m\u001b[0m\u001b[0m\n\u001b[1;32m---> 13\u001b[1;33m         \u001b[0mclick_list\u001b[0m\u001b[1;33m(\u001b[0m\u001b[0mdriver\u001b[0m\u001b[1;33m,\u001b[0m \u001b[0mjobspage\u001b[0m\u001b[1;33m)\u001b[0m\u001b[1;33m\u001b[0m\u001b[1;33m\u001b[0m\u001b[0m\n\u001b[0m\u001b[0;32m     14\u001b[0m         \u001b[0mtime\u001b[0m\u001b[1;33m.\u001b[0m\u001b[0msleep\u001b[0m\u001b[1;33m(\u001b[0m\u001b[0mrandom_time\u001b[0m\u001b[1;33m(\u001b[0m\u001b[1;33m)\u001b[0m\u001b[1;33m)\u001b[0m\u001b[1;33m\u001b[0m\u001b[1;33m\u001b[0m\u001b[0m\n\u001b[0;32m     15\u001b[0m         \u001b[0mli\u001b[0m \u001b[1;33m=\u001b[0m \u001b[0mdriver\u001b[0m\u001b[1;33m.\u001b[0m\u001b[0mfind_element_by_css_selector\u001b[0m\u001b[1;33m(\u001b[0m\u001b[1;34m\"a[aria-label='Suivant']\"\u001b[0m\u001b[1;33m)\u001b[0m\u001b[1;33m\u001b[0m\u001b[1;33m\u001b[0m\u001b[0m\n",
      "\u001b[1;32m<ipython-input-14-88fab5b69c2a>\u001b[0m in \u001b[0;36mclick_list\u001b[1;34m(driver, jobspage)\u001b[0m\n\u001b[0;32m     44\u001b[0m \u001b[1;33m\u001b[0m\u001b[0m\n\u001b[0;32m     45\u001b[0m         \u001b[0mdf\u001b[0m \u001b[1;33m=\u001b[0m \u001b[0mdf\u001b[0m\u001b[1;33m.\u001b[0m\u001b[0mappend\u001b[0m\u001b[1;33m(\u001b[0m\u001b[0mall_inf\u001b[0m\u001b[1;33m)\u001b[0m\u001b[1;33m\u001b[0m\u001b[1;33m\u001b[0m\u001b[0m\n\u001b[1;32m---> 46\u001b[1;33m     \u001b[0mbdd\u001b[0m\u001b[1;33m.\u001b[0m\u001b[0msave_offers\u001b[0m\u001b[1;33m(\u001b[0m\u001b[0mdf\u001b[0m\u001b[1;33m)\u001b[0m\u001b[1;33m\u001b[0m\u001b[1;33m\u001b[0m\u001b[0m\n\u001b[0m\u001b[0;32m     47\u001b[0m \u001b[1;33m\u001b[0m\u001b[0m\n\u001b[0;32m     48\u001b[0m         \u001b[1;31m#put_in_csv(all_inf)\u001b[0m\u001b[1;33m\u001b[0m\u001b[1;33m\u001b[0m\u001b[1;33m\u001b[0m\u001b[0m\n",
      "\u001b[1;31mNameError\u001b[0m: name 'bdd' is not defined"
     ]
    }
   ],
   "source": [
    "start = time.time()\n",
    "driver.maximize_window()\n",
    "all_process(driver, LOGINPAGE, JOBSPAGE)\n",
    "end = time.time()\n",
    "print(\"\\ntook {:.2f}s\".format(end-start))"
   ]
  },
  {
   "cell_type": "code",
   "execution_count": null,
   "metadata": {
    "hidden": true
   },
   "outputs": [],
   "source": []
  },
  {
   "cell_type": "code",
   "execution_count": null,
   "metadata": {
    "hidden": true
   },
   "outputs": [],
   "source": []
  }
 ],
 "metadata": {
  "kernelspec": {
   "display_name": "Python 3",
   "language": "python",
   "name": "python3"
  },
  "language_info": {
   "codemirror_mode": {
    "name": "ipython",
    "version": 3
   },
   "file_extension": ".py",
   "mimetype": "text/x-python",
   "name": "python",
   "nbconvert_exporter": "python",
   "pygments_lexer": "ipython3",
   "version": "3.7.6"
  },
  "toc": {
   "base_numbering": 1,
   "nav_menu": {},
   "number_sections": true,
   "sideBar": false,
   "skip_h1_title": false,
   "title_cell": "Table of Contents",
   "title_sidebar": "Contents",
   "toc_cell": true,
   "toc_position": {
    "height": "1164.47px",
    "left": "379px",
    "top": "180px",
    "width": "550.4px"
   },
   "toc_section_display": true,
   "toc_window_display": false
  },
  "varInspector": {
   "cols": {
    "lenName": 16,
    "lenType": 16,
    "lenVar": 40
   },
   "kernels_config": {
    "python": {
     "delete_cmd_postfix": "",
     "delete_cmd_prefix": "del ",
     "library": "var_list.py",
     "varRefreshCmd": "print(var_dic_list())"
    },
    "r": {
     "delete_cmd_postfix": ") ",
     "delete_cmd_prefix": "rm(",
     "library": "var_list.r",
     "varRefreshCmd": "cat(var_dic_list()) "
    }
   },
   "types_to_exclude": [
    "module",
    "function",
    "builtin_function_or_method",
    "instance",
    "_Feature"
   ],
   "window_display": false
  }
 },
 "nbformat": 4,
 "nbformat_minor": 4
}
